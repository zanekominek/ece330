{
 "cells": [
  {
   "cell_type": "code",
   "execution_count": 3,
   "metadata": {},
   "outputs": [],
   "source": [
    "class Solution:\n",
    "    def myAtoi(self, s: str) -> int:\n",
    "        start = True\n",
    "        sign = True\n",
    "        st = \"0\"\n",
    "        for x in s:\n",
    "            if start == True and x == ' ':\n",
    "                continue\n",
    "            if (start == True and (x == '-' or x == '+')):\n",
    "                sign = [1, -1][x == '-']\n",
    "                start = False\n",
    "            elif start == True and x.isdigit() == False:\n",
    "                break\n",
    "            elif startFlag == True and x.isdigit() == True:\n",
    "                st = st + x\n",
    "                start = False\n",
    "            elif start == False and x.isdigit() == True:\n",
    "                st = st + x\n",
    "            elif start == False and x.isdigit() == False:\n",
    "                break\n",
    "            \n",
    "        res = sign* int(st)   \n",
    "        if ((2**31 -1) < res):\n",
    "            return ((2**31) -1)\n",
    "        elif(-(2**31) > res):\n",
    "            return (-(2**31))\n",
    "        else:\n",
    "            return res"
   ]
  },
  {
   "cell_type": "code",
   "execution_count": null,
   "metadata": {},
   "outputs": [],
   "source": []
  }
 ],
 "metadata": {
  "kernelspec": {
   "display_name": "Python 3",
   "language": "python",
   "name": "python3"
  },
  "language_info": {
   "codemirror_mode": {
    "name": "ipython",
    "version": 3
   },
   "file_extension": ".py",
   "mimetype": "text/x-python",
   "name": "python",
   "nbconvert_exporter": "python",
   "pygments_lexer": "ipython3",
   "version": "3.8.5"
  }
 },
 "nbformat": 4,
 "nbformat_minor": 4
}
